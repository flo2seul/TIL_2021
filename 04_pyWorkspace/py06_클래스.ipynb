{
 "cells": [
  {
   "cell_type": "markdown",
   "metadata": {},
   "source": [
    "### 1. 클래스\n",
    "    \n",
    "    class 클래스명():\n",
    "        [변수1] # 클래스 변수\n",
    "        [변수2]\n",
    "        ...\n",
    "        def 함수(self[, 인자1, 인자1, ... , 인자 n]): # 클래스 함수 == 메소드\n",
    "            <코드 블록>\n",
    "            ...\n",
    "        def 함수2(self[, 인자1, 인자2, ... , 인자 n]):\n",
    "            <코드 블록>\n",
    "            ..."
   ]
  },
  {
   "cell_type": "code",
   "execution_count": 1,
   "metadata": {},
   "outputs": [],
   "source": [
    "class Person():\n",
    "    def __init__(self, name, age, addr):\n",
    "        self.name = name # 인스턴스 변수 생성 및 초기화\n",
    "        self.age = age # 인스턴스 변수 생성 및 초기화\n",
    "        self.addr = addr\n",
    "    def greeting(self):\n",
    "        self.greeting()\n",
    "    def sing():    \n",
    "        print('랄랄랄루루루')\n",
    "        "
   ]
  },
  {
   "cell_type": "markdown",
   "metadata": {},
   "source": [
    "### 2. 클래스 객체 생성하기"
   ]
  },
  {
   "cell_type": "code",
   "execution_count": 2,
   "metadata": {},
   "outputs": [],
   "source": [
    "# james = Person()\n",
    "james = Person('James Corner',33,'NY')\n",
    "peter = Person('PETER',44,'Brandon')\n",
    "jane = Person('JANE',55,'Texas')"
   ]
  },
  {
   "cell_type": "markdown",
   "metadata": {},
   "source": [
    "### 3. 멤버 접근해서 정보 확인하기"
   ]
  },
  {
   "cell_type": "code",
   "execution_count": 3,
   "metadata": {},
   "outputs": [
    {
     "data": {
      "text/plain": [
       "'NY'"
      ]
     },
     "execution_count": 3,
     "metadata": {},
     "output_type": "execute_result"
    }
   ],
   "source": [
    "james.name\n",
    "james.age\n",
    "james.addr"
   ]
  },
  {
   "cell_type": "markdown",
   "metadata": {},
   "source": [
    "### 4. 상속하기\n",
    "\n",
    "    class 자식 클래스 이름(부모 클래스 이름):\n",
    "        <코드 블록>"
   ]
  },
  {
   "cell_type": "code",
   "execution_count": 10,
   "metadata": {},
   "outputs": [
    {
     "name": "stdout",
     "output_type": "stream",
     "text": [
      "자동차\n"
     ]
    }
   ],
   "source": [
    "class Car:\n",
    "    carType = \"자동차\"\n",
    "    \n",
    "class Hyundai(Car):\n",
    "    pass\n",
    "\n",
    "sonata = Hyundai()\n",
    "print(sonata.carType)"
   ]
  }
 ],
 "metadata": {
  "kernelspec": {
   "display_name": "Python 3",
   "language": "python",
   "name": "python3"
  },
  "language_info": {
   "codemirror_mode": {
    "name": "ipython",
    "version": 3
   },
   "file_extension": ".py",
   "mimetype": "text/x-python",
   "name": "python",
   "nbconvert_exporter": "python",
   "pygments_lexer": "ipython3",
   "version": "3.8.5"
  }
 },
 "nbformat": 4,
 "nbformat_minor": 4
}
